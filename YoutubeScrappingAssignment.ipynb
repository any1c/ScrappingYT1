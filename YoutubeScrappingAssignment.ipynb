{
 "cells": [
  {
   "cell_type": "code",
   "execution_count": 5,
   "id": "4a726cf3-d4bd-4ba8-98e8-7640dfed595a",
   "metadata": {},
   "outputs": [],
   "source": [
    "# imoprting all library\n",
    "import re\n",
    "import requests\n",
    "import pandas as pe\n",
    "import logging\n",
    "import os\n",
    "from bs4 import BeautifulSoup as bs\n",
    "from urllib.request import urlopen"
   ]
  },
  {
   "cell_type": "code",
   "execution_count": 62,
   "id": "708a90c0-4a96-4952-88fe-c6920f5b2e72",
   "metadata": {},
   "outputs": [
    {
     "name": "stdout",
     "output_type": "stream",
     "text": [
      "200\n"
     ]
    }
   ],
   "source": [
    "input_text='PW-Foundation'\n",
    "url = f'https://www.youtube.com/@{input_text}/videos'\n",
    "\n",
    "headers = {\"User-Agent\": \"Mozilla/5.0 (Windows NT 10.0; Win64; x64) AppleWebKit/537.36 (KHTML, like Gecko) Chrome/58.0.3029.110 Safari/537.36\"}\n",
    "response=requests.get(url,headers=headers)\n",
    "print(response.status_code) # if reponse is 200 all good\n",
    "response_text=response.text"
   ]
  },
  {
   "cell_type": "code",
   "execution_count": 20,
   "id": "09272e5b-d65b-49ad-9ef9-b0e7e8e9d95f",
   "metadata": {},
   "outputs": [],
   "source": [
    "## extracting thumbnails\n",
    "video_thumbnails = re.findall(r\"https://i.ytimg.com/vi/[A-Za-z0-9_-]{11}/[A-Za-z0-9_]{9}.jpg\", response_text)"
   ]
  },
  {
   "cell_type": "code",
   "execution_count": 21,
   "id": "0180008e-9dc3-4799-8d4e-e1bf89f40e42",
   "metadata": {},
   "outputs": [],
   "source": [
    "## extracting titles\n",
    "video_titles = re.findall('\"title\":{\"runs\":\\[{\"text\":\".*?\"', response_text)"
   ]
  },
  {
   "cell_type": "code",
   "execution_count": 29,
   "id": "ea9f90a0-8614-4322-9bab-f0cf06b89fc2",
   "metadata": {},
   "outputs": [],
   "source": [
    "## Video links\n",
    "video_links = re.findall(r\"watch\\?v=[A-Za-z0-9_-]{11}\", response_text)"
   ]
  },
  {
   "cell_type": "code",
   "execution_count": 22,
   "id": "ff8c4dc1-c789-4a10-93f5-799d19e0f989",
   "metadata": {},
   "outputs": [],
   "source": [
    "# no.of views\n",
    "counting = re.compile(r\"[0-9]+(\\.[0-9]+)?[a-zA-Z]*K views\")  "
   ]
  },
  {
   "cell_type": "code",
   "execution_count": 23,
   "id": "5fd8660f-c14a-4b60-aa6e-8b9db48835f2",
   "metadata": {},
   "outputs": [],
   "source": [
    "# video uploaded on\n",
    "date=re.compile(r\"\\d+ (minutes|hours|hour|days|day|weeks|week|years|year) ago\")  "
   ]
  },
  {
   "cell_type": "code",
   "execution_count": 24,
   "id": "fb82e2e0-f4b1-4fb8-b98a-fb3bfe5d9958",
   "metadata": {},
   "outputs": [],
   "source": [
    "extracting_count = counting.finditer(response_text)\n",
    "extracting_date =  date.finditer(response_text)"
   ]
  },
  {
   "cell_type": "code",
   "execution_count": 25,
   "id": "cdc7f57b-0678-4393-9a0c-f2bdae1bb26d",
   "metadata": {},
   "outputs": [],
   "source": [
    "video_views=[]\n",
    "video_date=[]\n",
    "count = 0\n",
    "for count,day in zip(extracting_count,extracting_date):\n",
    "         video_views.append(count[0])\n",
    "         video_date.append(day[0])\n",
    "   "
   ]
  },
  {
   "cell_type": "code",
   "execution_count": 49,
   "id": "e7f2af4d-8506-48f3-9734-334311717f9b",
   "metadata": {},
   "outputs": [],
   "source": [
    "titles=video_titles[0:10]\n",
    "thumbnail=list(dict.fromkeys(video_thumbnails))\n",
    "links=video_links[0:10]\n",
    "count_view=video_views[0:20:2]\n",
    "dates_ago=video_date[0:20:2]\n",
    "detail_list=[]\n",
    "\n",
    "for titles,thumbnail,links,count_view,dates_ago in zip(titles,thumbnail,links,count_view,dates_ago):\n",
    "        details_dict={\n",
    "        \"title\":titles.split('\"')[-2], \"thumbnail\": thumbnail, \"link\": \"https://www.youtube.com/\"+links,\n",
    "        \"viewcount\": count_view, \"date\": dates_ago }\n",
    "        detail_list.append(details_dict)"
   ]
  },
  {
   "cell_type": "code",
   "execution_count": 54,
   "id": "a044f2b7-c963-49bc-a868-95022eab9269",
   "metadata": {},
   "outputs": [],
   "source": [
    "df = pe.DataFrame(detail_list)\n",
    "df.to_csv('data.csv', index=False)"
   ]
  },
  {
   "cell_type": "code",
   "execution_count": null,
   "id": "fb09f39a-4d96-4e5e-8196-199a96d35f99",
   "metadata": {},
   "outputs": [],
   "source": []
  }
 ],
 "metadata": {
  "kernelspec": {
   "display_name": "Python 3 (ipykernel)",
   "language": "python",
   "name": "python3"
  },
  "language_info": {
   "codemirror_mode": {
    "name": "ipython",
    "version": 3
   },
   "file_extension": ".py",
   "mimetype": "text/x-python",
   "name": "python",
   "nbconvert_exporter": "python",
   "pygments_lexer": "ipython3",
   "version": "3.10.8"
  }
 },
 "nbformat": 4,
 "nbformat_minor": 5
}
